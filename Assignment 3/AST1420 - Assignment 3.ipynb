{
 "cells": [
  {
   "cell_type": "markdown",
   "metadata": {},
   "source": [
    "# AST1420 - Assignment 3\n",
    "\n",
    "## Emaad Paracha - 1003687236"
   ]
  },
  {
   "cell_type": "markdown",
   "metadata": {},
   "source": [
    "## 0. Importing Dependencies"
   ]
  },
  {
   "cell_type": "code",
   "execution_count": 1,
   "metadata": {},
   "outputs": [],
   "source": [
    "import matplotlib.pyplot as plt\n",
    "import math\n",
    "from scipy.integrate import odeint\n",
    "from scipy.integrate import quad\n",
    "from scipy.misc import derivative\n",
    "import numpy as np\n",
    "from IPython.display import Image\n",
    "import scipy.optimize as opt\n",
    "\n",
    "import warnings\n",
    "warnings.filterwarnings(\"ignore\") #Not ideal, I just wanted to make the notebook cleaner"
   ]
  },
  {
   "cell_type": "markdown",
   "metadata": {},
   "source": [
    "## Question 1 - Gravitational collapse in one dimension.\n",
    "\"[One] grows stale if he works all the time on insoluble problems, and a trip to the beautiful world of one dimension will refresh his imagination better than a dose of LSD.\" - Freeman Dyson\n",
    "\n",
    "Gravitational N-body simulations of structure formation in the Universe are complex and computationally demanding. Fortunately, some of the physics of gravitational collapse can be understood by simulating one-dimensional systems, where it is easy to reach high resolution and where gravity is simpler. Let’s explore the formation of dark matter halos using gravitational N-body simulations in one dimension."
   ]
  },
  {
   "cell_type": "markdown",
   "metadata": {},
   "source": [
    "### Part a\n",
    "\n",
    "The Poisson equation is as usual\n",
    "\n",
    "$$\\nabla^2 \\Phi = 4\\pi G \\rho$$\n",
    "\n",
    "An important aspect of understanding gravitation is the determination\n",
    "of the Green's function, that is, the solution of this equation\n",
    "for a density $\\rho(x) \\propto \\delta(x)$. In three dimensions, we\n",
    "showed in the notes that the gravitational potential for\n",
    "$\\rho(\\vec{x}) = M\\,\\delta(\\vec{x})$ is the familiar $\\Phi = -GM/r$\n",
    "with $r = |\\vec{x}|$. Show that the solution for $\\rho(x) =\n",
    "A\\,\\delta(x)$ in one dimension is given by $\\Phi(x) = 2\\pi\n",
    "G\\,A\\,|x|$. What are the units of $A$?"
   ]
  },
  {
   "cell_type": "markdown",
   "metadata": {},
   "source": [
    "If we plug in the given $\\Phi(x) = 2\\pi G A|x|$ into the Poisson equation, we get:\n",
    "\n",
    "$$\\nabla^{2}(2\\pi G A|x|) = 4\\pi G \\rho $$\n",
    "\n",
    "Since we're only working in 1 dimension, our Laplacian is just $\\nabla^{2} = \\frac{\\partial^{2}}{\\partial x^{2}}$. Thus, using that, we get:\n",
    "\n",
    "$$ 2\\pi G A (\\frac{\\partial^{2} |x|}{\\partial x^{2}}) = 4\\pi G\\rho$$\n",
    "\n",
    "Or rearranging:\n",
    "\n",
    "$$\\rho = \\frac{A}{2}(\\frac{\\partial^{2} |x|}{\\partial x^{2}})$$\n",
    "\n",
    "We know that $|x|$ is defined as:\n",
    "\n",
    "$$\n",
    "|x| =\n",
    "  \\begin{cases}\n",
    "                                   x & \\text{if $x \\geq 0$} \\\\\n",
    "                                   -x & \\text{if $x < 0$}\n",
    "  \\end{cases}\n",
    "$$\n",
    "\n",
    "Thus, if we take the first derivative of $|x|$, we have:\n",
    "\n",
    "$$\n",
    "\\frac{d|x|}{dx} =\n",
    "  \\begin{cases}\n",
    "                                   1 & \\text{if $x > 0$} \\\\\n",
    "                                   -1 & \\text{if $x < 0$}\n",
    "  \\end{cases}\n",
    "$$\n",
    "\n",
    "And the discontinuity at $x = 0$ blows to $\\infty$. Taking the second derivative now, we have:\n",
    "\n",
    "$$\n",
    "\\frac{d^{2}|x|}{dx^{2}} =\n",
    "  \\begin{cases}\n",
    "                                   0 & \\text{if $x > 0$} \\\\\n",
    "                                   0 & \\text{if $x < 0$}\n",
    "  \\end{cases}\n",
    "$$\n",
    "\n",
    "With the same discontinuity. Since we know the dirac delta function is defined as:\n",
    "\n",
    "$$\n",
    "\\delta(x) =\n",
    "  \\begin{cases}\n",
    "                                   \\infty & \\text{if $x = 0$} \\\\\n",
    "                                   0 & \\text{otherwise}\n",
    "  \\end{cases}\n",
    "$$\n",
    "\n",
    "and since the discontinuity in $\\frac{d|x|}{dx}$ is jumping from -1 to 1, we have:\n",
    "\n",
    "$$\n",
    "\\frac{d^{2}|x|}{dx^{2}} = 2\\delta(x)\n",
    "$$\n",
    "\n",
    "Thus, plugging that back in, we arrive at:\n",
    "\n",
    "$$\\rho = \\frac{A}{2}\\left(\\frac{\\partial^{2} |x|}{\\partial x^{2}}\\right) = A\\delta(x)$$\n",
    "\n",
    "Showing that the solution for $\\rho = A\\delta(x)$ is given by $\\Phi(x) = 2\\pi G A|x|$"
   ]
  },
  {
   "cell_type": "markdown",
   "metadata": {},
   "source": [
    "Since we know the units of $\\Phi$ are $\\left[\\frac{m^{2}}{s^{2}}\\right]$, $G$ are $\\left[\\frac{m^{3}}{kgs^{2}}\\right]$, and $|x|$ are $[m]$, we can use dimensional analysis to get the units for $A$:\n",
    "\n",
    "$$\n",
    "\\left[\\frac{m^{2}}{s^{2}}\\right] = A\\left[\\frac{m^{4}}{kg s^{2}}\\right]\n",
    "$$\n",
    "\n",
    "Or, rearranging:\n",
    "\n",
    "$$\n",
    "A = \\left[\\frac{kg}{m^{2}}\\right]\n",
    "$$\n"
   ]
  },
  {
   "cell_type": "markdown",
   "metadata": {
    "collapsed": true
   },
   "source": [
    "### Part b\n",
    "The gravitational force corresponding to $\\Phi(x) = 2\\pi\n",
    "G\\,A\\,|x|$ is $F = -\\mathrm{d} \\Phi / \\mathrm{d} x = -2\\pi\n",
    "G\\,A\\,\\mathrm{sign}(x)$, where $\\mathrm{sign}(x)$ is the sign function\n",
    "that is equal to one for $x > 0$, equal to minus 1 for $x < 0$ and\n",
    "equal to zero for $x=0$. Therefore, very unlike what happens in three\n",
    "dimensions, the gravitational force is constant as a function of\n",
    "distance! In the next part, we will run an $N$-body simulation for $N$\n",
    "equal-mass particles (so all $A$ are equal; you can also assume that\n",
    "$2\\pi G = 1$). Because the gravitational force is constant with\n",
    "distance, the total force on any given particle $i$ in the sequence is\n",
    "therefore given by $A\\times\\,(N^+_i-N^-_i)$, where $N^+$ is the number\n",
    "of particles with $x > x_i$ and $N^-_i$ is the number of particles\n",
    "with $x < x_i$. Write a function that for a given array of positions\n",
    "$x_i$ computes the total force on each particle. Test this function by\n",
    "applying it to a large number of particles uniformly distributed\n",
    "between $-1/2$ and $1/2$, for which you should compute the analytical\n",
    "solution."
   ]
  },
  {
   "cell_type": "code",
   "execution_count": null,
   "metadata": {},
   "outputs": [],
   "source": [
    "def force_compute(particles, A_value):\n",
    "    \n",
    "    force = []\n",
    "    \n",
    "    for p in particles:\n",
    "        Nminus = len(particles[particles<p]) #Computing particles below the given particle\n",
    "        Nplus = len(particles[particles>p]) #Computing partciles above the given particle\n",
    "        \n",
    "        force.append(A_value*(Nplus-Nminus)) #Appending force to array\n",
    "    \n",
    "    return force\n",
    "\n",
    "N = 10001\n",
    "left = -0.5\n",
    "right = 0.5\n",
    "A = 1\n",
    "particles = np.linspace(left,right,N) #Creating array of partciles using the given parameters\n",
    "\n",
    "total_force = force_compute(particles,A) #Computing total force\n",
    "\n",
    "plt.plot(particles,total_force)\n",
    "plt.xlabel(\"x\")\n",
    "plt.ylabel(\"Force\")\n",
    "plt.show() #Plotting total force"
   ]
  },
  {
   "cell_type": "markdown",
   "metadata": {},
   "source": [
    "#### Analytic Solution for the 1D force calculation:\n",
    "\n",
    "Since we are in 1D, we have a range of x-values, where our particles lie. If we subtract the minimum from the maximum, we have the domain:\n",
    "\n",
    "$$\\text{max - min = domain}$$\n",
    "\n",
    "And since they are equidistant, we have the separation between points:\n",
    "\n",
    "$$\\text{separation} = \\frac{\\text{domain}}{N_{\\text{particles}}}$$\n",
    "\n",
    "Thus, for $N^{+}$, we can compute it by:\n",
    "\n",
    "$$N^{+}_{i} = \\frac{\\text{max} - x_{i}}{\\text{separation}} = \\frac{(\\text{max} - x_{i})N_{\\text{particles}}}{\\text{max - min}}$$\n",
    "\n",
    "Likewise, we can find the formula for $N^{-}$:\n",
    "\n",
    "$$N^{-}_{i} = \\frac{x_{i} - \\text{min}}{\\text{separation}} = \\frac{(x_{i} - \\text{min})N_{\\text{particles}}}{\\text{max - min}}$$\n",
    "\n",
    "Thus, we finally have for force, $F$, for a given particle, $x_{i}$:\n",
    "\n",
    "$$F(x_{i}) = A(N^{+}_{i} - N^{-}_{i}) = A\\left(\\frac{(\\text{max} - x_{i})N_{\\text{particles}}}{\\text{max - min}} - \\frac{(x_{i} - \\text{min})N_{\\text{particles}}}{\\text{max - min}}\\right)$$\n",
    "\n",
    "Rearranging, we get:\n",
    "\n",
    "$$F(x_{i}) = \\left(\\frac{AN_{particles}}{\\text{max - min}}\\right)(\\text{max + min} - 2x_{i})$$"
   ]
  },
  {
   "cell_type": "markdown",
   "metadata": {},
   "source": [
    "#### Checking the analytic solution above"
   ]
  },
  {
   "cell_type": "code",
   "execution_count": 3,
   "metadata": {
    "scrolled": true
   },
   "outputs": [
    {
     "data": {
      "image/png": "[encoded data removed]",
      "text/plain": [
       "<Figure size 432x288 with 1 Axes>"
      ]
     },
     "metadata": {
      "needs_background": "light"
     },
     "output_type": "display_data"
    }
   ],
   "source": [
    "def analytic_compute(particles,maximum,minimum,N,A): #Checking the analytic code above\n",
    "    \n",
    "    force_val = []\n",
    "    for p in particles:\n",
    "        force_val.append(((A*N)/(maximum-minimum))*(maximum + minimum - 2*p)) #Coding in the formula above\n",
    "        \n",
    "    return force_val\n",
    "\n",
    "analytic_force = analytic_compute(particles,right,left,N,A) #Computing the total force\n",
    "\n",
    "plt.plot(particles,total_force,color='red')\n",
    "plt.plot(particles,analytic_force,color='blue',alpha=0.5) #Plotting both curves\n",
    "plt.xlabel(\"x\")\n",
    "plt.ylabel(\"Force\")\n",
    "plt.show()\n",
    "#Because the curve is purple (red and blue superposed), it shows the analytic solution is an accurate solution"
   ]
  },
  {
   "cell_type": "markdown",
   "metadata": {
    "collapsed": true
   },
   "source": [
    "### Part c\n",
    "Now write the second part of the $N$-body code by writing a\n",
    "leapfrog integrator that integrates all $N$ particles forward for a\n",
    "time step $\\delta t$ using the force function that you wrote in\n",
    "(b). Use this $N$-body code to integrate the following system of\n",
    "initial conditions\n",
    "\\begin{align}\n",
    "  x & \\in [-\\pi/2,\\pi/2]\\\\\n",
    "  v &= -0.001\\,\\sin(x)\\\\\n",
    "  N & = 10,001\\,,\n",
    "\\end{align}\n",
    "where the $x$ are evenly spaced in the interval given. These initial\n",
    "conditions are similar to those of a dark matter halo that has just\n",
    "started collapsing after decoupling from the Hubble\n",
    "expansion. Integrate this system forward for a total time of $t = 200$\n",
    "with $\\delta t = 0.0005$. Plot the phase-space distribution $(x,v)$ at\n",
    "times $t=0, 18, 25, 40, 132$, and $200$. Describe what you see\n",
    "happening."
   ]
  },
  {
   "cell_type": "code",
   "execution_count": 42,
   "metadata": {},
   "outputs": [
    {
     "name": "stdout",
     "output_type": "stream",
     "text": [
      "t = 18 reached\n",
      "t = 18 reached\n",
      "t = 25 reached\n",
      "t = 25 reached\n",
      "t = 40 reached\n",
      "t = 40 reached\n",
      "t = 132 reached\n",
      "t = 132 reached\n"
     ]
    }
   ],
   "source": [
    "maxi = math.pi/2 #max and min\n",
    "mini = -math.pi/2\n",
    "\n",
    "dt = 0.0005\n",
    "N = 10001\n",
    "finalt = 200 \n",
    "xvalues = np.linspace(mini,maxi,N) #Initial parameters and points\n",
    "\n",
    "vvalues = -0.001*np.sin(xvalues) #Initial velocities\n",
    "\n",
    "def forcing(xval): #Force Calculation\n",
    "    F = np.zeros(len(xval)) \n",
    "    \n",
    "    xidx = np.argsort(np.argsort(xval)) #Helps in computing nminus by telling how many particles are \"behind\" a specific particle\n",
    "\n",
    "    nminus = xidx #Same as above\n",
    "    nplus = np.abs(xidx-len(xval)+1) #Subtracting the length and adding 1 to get the opposite of nminus\n",
    "    \n",
    "    F = nplus - nminus #Force calculation\n",
    "    \n",
    "    return F\n",
    "\n",
    "x_new = xvalues.copy() \n",
    "v_new = vvalues.copy()\n",
    "\n",
    "timecounter = 0 #Time counter to take snapshots\n",
    "\n",
    "x0 = x_new.copy() #Snapshot at t = 0\n",
    "v0 = v_new.copy()\n",
    "\n",
    "oldforce = forcing(x_new) #Initial forces\n",
    "\n",
    "for times in range(int(finalt/dt)+1): #Leapfrog method\n",
    "    \n",
    "    x_new = x_new + dt*v_new + 0.5*(dt**2)*oldforce #Computing positions\n",
    "    \n",
    "    newforce = forcing(x_new) #New force from new position\n",
    "    \n",
    "    v_new = v_new + 0.5*dt*(newforce + oldforce) #New velocities\n",
    "    \n",
    "    oldforce = newforce.copy() #Copy of new force to be used as the old force\n",
    "    \n",
    "    #Time counters to save snapshots in different arrays\n",
    "    if (timecounter > 18 and timecounter - 18 < 1e-3):\n",
    "        print(\"t = 18 reached\")\n",
    "        x18 = x_new.copy()\n",
    "        v18 = v_new.copy()\n",
    "        \n",
    "    elif (timecounter > 25 and timecounter - 25 < 1e-3):\n",
    "        print(\"t = 25 reached\")\n",
    "        x25 = x_new.copy()\n",
    "        v25 = v_new.copy()\n",
    "        \n",
    "    elif (timecounter > 40 and timecounter - 40 < 1e-3):\n",
    "        print(\"t = 40 reached\")\n",
    "        x40 = x_new.copy()\n",
    "        v40 = v_new.copy()\n",
    "        \n",
    "    elif (timecounter > 132 and timecounter - 132 < 1e-3):\n",
    "        print(\"t = 132 reached\")\n",
    "        x132 = x_new.copy()\n",
    "        v132 = v_new.copy()\n",
    "        \n",
    "    times += 1\n",
    "    timecounter += dt"
   ]
  },
  {
   "cell_type": "code",
   "execution_count": 51,
   "metadata": {},
   "outputs": [
    {
     "data": {
      "image/png": "[encoded data removed]",
      "text/plain": [
       "<Figure size 432x288 with 1 Axes>"
      ]
     },
     "metadata": {
      "needs_background": "light"
     },
     "output_type": "display_data"
    }
   ],
   "source": [
    "plt.scatter(x0,v0)\n",
    "plt.xlabel(\"x\")\n",
    "plt.ylabel(\"v\")\n",
    "plt.title(\"Phase Space Distribution for t = 0\")\n",
    "plt.show()"
   ]
  },
  {
   "cell_type": "code",
   "execution_count": 52,
   "metadata": {},
   "outputs": [
    {
     "data": {
      "image/png": "[encoded data removed]",
      "text/plain": [
       "<Figure size 432x288 with 1 Axes>"
      ]
     },
     "metadata": {
      "needs_background": "light"
     },
     "output_type": "display_data"
    }
   ],
   "source": [
    "plt.scatter(x18,v18)\n",
    "plt.xlabel(\"x\")\n",
    "plt.ylabel(\"v\")\n",
    "plt.title(\"Phase Space Distribution for t = 18\")\n",
    "plt.show()"
   ]
  },
  {
   "cell_type": "code",
   "execution_count": 53,
   "metadata": {},
   "outputs": [
    {
     "data": {
      "image/png": "[encoded data removed]",
      "text/plain": [
       "<Figure size 432x288 with 1 Axes>"
      ]
     },
     "metadata": {
      "needs_background": "light"
     },
     "output_type": "display_data"
    }
   ],
   "source": [
    "plt.scatter(x25,v25)\n",
    "plt.xlabel(\"x\")\n",
    "plt.ylabel(\"v\")\n",
    "plt.title(\"Phase Space Distribution for t = 25\")\n",
    "plt.show()"
   ]
  },
  {
   "cell_type": "code",
   "execution_count": 54,
   "metadata": {},
   "outputs": [
    {
     "data": {
      "image/png": "[encoded data removed]",
      "text/plain": [
       "<Figure size 432x288 with 1 Axes>"
      ]
     },
     "metadata": {
      "needs_background": "light"
     },
     "output_type": "display_data"
    }
   ],
   "source": [
    "plt.scatter(x40,v40)\n",
    "plt.xlabel(\"x\")\n",
    "plt.ylabel(\"v\")\n",
    "plt.title(\"Phase Space Distribution for t = 40\")\n",
    "plt.show()"
   ]
  },
  {
   "cell_type": "code",
   "execution_count": 55,
   "metadata": {},
   "outputs": [
    {
     "data": {
      "image/png": "[encoded data removed]",
      "text/plain": [
       "<Figure size 432x288 with 1 Axes>"
      ]
     },
     "metadata": {
      "needs_background": "light"
     },
     "output_type": "display_data"
    }
   ],
   "source": [
    "plt.scatter(x132,v132)\n",
    "plt.xlabel(\"x\")\n",
    "plt.ylabel(\"v\")\n",
    "plt.title(\"Phase Space Distribution for t = 132\")\n",
    "plt.show()"
   ]
  },
  {
   "cell_type": "code",
   "execution_count": 56,
   "metadata": {},
   "outputs": [
    {
     "data": {
      "image/png": "[encoded data removed]",
      "text/plain": [
       "<Figure size 432x288 with 1 Axes>"
      ]
     },
     "metadata": {
      "needs_background": "light"
     },
     "output_type": "display_data"
    }
   ],
   "source": [
    "plt.scatter(x_new,v_new)\n",
    "plt.xlabel(\"x\")\n",
    "plt.ylabel(\"v\")\n",
    "plt.title(\"Phase Space Distribution for t = 200\")\n",
    "plt.show()"
   ]
  },
  {
   "cell_type": "markdown",
   "metadata": {},
   "source": [
    "As can be observed from the progression of phase space distributions over time, initially there is a relatively linear distribution, with a linear relationship between the position and velocity, but then as time progresses, the distribution smoothes out over a range of position-velocity points and exhibits phase-space mixing and relaxation!"
   ]
  },
  {
   "cell_type": "markdown",
   "metadata": {
    "collapsed": true
   },
   "source": [
    "### Part d\n",
    "The simulation that you ran is the same as that shown in the GIF\n",
    "at the start of chapter 6 in the notes, but the simulation in the\n",
    "notes solves the $N$-body problem exactly (which is possible in 1D,\n",
    "because the force does not depend on distance). Compare your\n",
    "simulation's output to the GIF and discuss why your simulation might\n",
    "(dis)agree with the GIF."
   ]
  },
  {
   "cell_type": "markdown",
   "metadata": {},
   "source": [
    "I think the simulation I ran agrees with the GIF because of how both systems start and how they end. As can easily be observed, since my simulation took several \"snapshots\" instead of taking continous measurement, I have snapshots of the phase space mixing happening. Initially, just like in the GIF, the particles are arranged with specific energies together. This aligns well with the earlier snapshot, at t = 0. Then, as time progresses, they interact with each other and even though initially we do not see an equilibrium state, just like at t = 18 and t = 25, eventually we arrive at an equilibrium state first seen in the snapshot at t = 40, which aligns with the GIF at later times, and continues up till t = 200 according to my simulations, and accordingly in the GIF as well!"
   ]
  },
  {
   "cell_type": "markdown",
   "metadata": {},
   "source": [
    "## Question 2 - Recycling in chemical evolution and the abundance of deuterium.\n",
    "In the class notes, we ignored the effect of recycling of unprocessed\n",
    "material by stars back into the ISM. That is, we assumed that gas\n",
    "consumed by star formation was fully lost from the ISM, except for the\n",
    "enriched ejecta that we described using the yield parameter\n",
    "$p$. However, in reality, winds from massive stars return a\n",
    "significant amount of mass to the ISM that was not changed by the star\n",
    "and thus returns mass to the ISM at the star's birth abundance $Z$.\n",
    "\n",
    "Recycling is especially important to consider if we want to\n",
    "investigate the abundance of deuterium in the ISM. Deuterium is an\n",
    "interesting element because it is only destroyed by stars\n",
    "without being created (to a good approximation, deuterium is only\n",
    "produced during Big Bang nucleosynthesis [BBN]). As such, deuterium is\n",
    "a good tracer of whether or not gas has ever been in a star. For\n",
    "example, if most of the gas in the present-day Milky Way ISM was\n",
    "previously processed in stars, then the deuterium abundance in the ISM\n",
    "should be very small, because all of the deuterium should have been\n",
    "destroyed. The deuterium abundance of the ISM can be determined using\n",
    "UV spectroscopy and it is found to be approximately $90\\%$ of the\n",
    "primordial BBN abundance. Let's see what we can learn about chemical\n",
    "evolution from this basic observation!\n",
    "\n",
    "In this problem, we will denote the mass of the ISM in deuterium as\n",
    "$M_D$ and the fraction of the ISM in deuterium as $X_D = M_D/M_g$. The\n",
    "primordial deuterium abundance is $X_D^P$ (you don't need to know the\n",
    "actual value, but it is $\\approx 2.6\\times 10^{-5}$). The observations\n",
    "of deuterium of the ISM show that today $X_D/X_D^P \\approx 0.9$. All\n",
    "of the following questions can be solved analytically using the same\n",
    "techniques as used in the notes for the closed/leaky/accreting box\n",
    "models."
   ]
  },
  {
   "cell_type": "markdown",
   "metadata": {},
   "source": [
    "### Part a\n",
    "Extend the closed box model to include the effect of recycling,\n",
    "which we will model as happening instantaneously. Assume that a\n",
    "fraction $r$ of the mass turned into stars is returned to ISM at the\n",
    "ISM's abundance at the time of the formation of the\n",
    "star. Specifically, derive the relation between $Z$, $p$, and the gas\n",
    "fraction as in Equation (13.7) in the presence of\n",
    "recycling. Discuss."
   ]
  },
  {
   "cell_type": "markdown",
   "metadata": {},
   "source": [
    "If we consider just a closed box model, we have, for a given gas mass, $M_g$ and gas mass in metals, $M_z$, the metallicity, $Z$, defined as:\n",
    "\n",
    "$$ Z = \\frac{M_z}{M_g}$$\n",
    "\n",
    "And for a closed box model, we have that the difference in gass mass is mass that's been turned into stars:\n",
    "\n",
    "$$ dM_g = -dM_*$$\n",
    "\n",
    "However, if we are to allow recycling of unprocessed material, we can define a recycling parameter, $r$, and rewrite the equation above as:\n",
    "\n",
    "$$dM_g = -dM_* + rdM_*$$\n",
    "\n",
    "This can further be rewritten as:\n",
    "\n",
    "$$dM_g = -(1-r)dM_*$$\n",
    "\n",
    "Or, rearranging:\n",
    "\n",
    "$$dM_* = \\frac{-dM_g}{(1-r)}$$\n",
    "\n",
    "A similar change can be made to the equation describing the change in metallicity. This is the normal equation in a closed box model, from the notes:\n",
    "\n",
    "$$dM_z = (p - Z)dM_*$$\n",
    "\n",
    "where $p$ is the yield parameter for metals. This can then be rewritten as:\n",
    "\n",
    "$$dM_z = (p - Z)dM_* + ZrdM_*$$\n",
    "\n",
    "We can plug in our equation from above for $dM_*$ to get:\n",
    "\n",
    "$$dM_z = \\left(\\frac{-(p-Z+rZ)}{(1-r)}\\right)dM_g$$\n",
    "\n",
    "Also from the equation for $Z$, we can get:\n",
    "\n",
    "$$dZ = d\\left(\\frac{M_z}{M_g}\\right) = \\frac{dM_z}{M_g} + M_z d\\left(\\frac{1}{M_g}\\right)$$\n",
    "\n",
    "If we plug what we have for $dM_z$ from the second last equation into the one above, we get:\n",
    "\n",
    "$$dZ = \\frac{-(p-Z+rZ)dM_g}{(1-r)M_g} + M_z \\frac{dM_g}{M_g^{2}}$$\n",
    "\n",
    "Knowing that $Z = M_z / M_g$ and rearranging the terms above, we get:\n",
    "\n",
    "$$dZ = \\frac{-p}{(1-r)}\\frac{dM_g}{M_g} + \\frac{-Z(1-r)}{(1-r)}\\frac{dM_g}{M_g} + Z\\frac{dM_g}{M_g}$$\n",
    "\n",
    "The last two terms here cancel, and we are left with\n",
    "\n",
    "$$dZ = \\frac{-p}{(1-r)}\\frac{dM_g}{M_g}$$\n",
    "\n",
    "We can then integrate this to finally get:\n",
    "\n",
    "$$ Z(t) = \\frac{-p}{(1-r)} \\ln \\left(\\frac{M_g(t)}{M_g(0)}\\right) $$"
   ]
  },
  {
   "cell_type": "markdown",
   "metadata": {},
   "source": [
    "I think the result we get is fairly interesting in how it adds a $1/(1-r)$ factor to equation 13.7 from the notes, and how that eventually affects overall metallicity. Since our $r$ values would range from 0 to 1, we can look at the behaviour between 0 and 1 and also at the extrema. For non-extreme values of r, we see that even though metallicity is increasing (which it does normally without recycling), it increases now at a faster rate since, instead of being stuck in stars, gas is now recycled and can then be used again to make stars, helping increase metallicity over time.\n",
    "\n",
    "We can also look at the two extrema, where $r = 0$ and $r = 1$. For $r = 0$, where there is no recycling, we get back equation 13.7, where there is no effect on the metallicity due to recycling and it is defined by the yield parameter only. Looking at the other extrema, at $r = 1$, where all the gas is being recycled, $Z(t)$ blows up to infinity. This is equivalent to the stars recycling all the gas, which would mean the stars form and recycle all of their mass instantly, which doesn't seem like a physical solution, since that would mean there are essentially no stars."
   ]
  },
  {
   "cell_type": "markdown",
   "metadata": {},
   "source": [
    "### Part b\n",
    "Now work out the closed box model with recycling for\n",
    "deuterium. Remember that no deuterium is created by stars. What is the\n",
    "relation between $X_D/X_D^P$, $r$, and the gas fraction? For the\n",
    "current ISM's values of the deuterium abundance and the gas fraction,\n",
    "what recycling fraction do you need to match the two?\n"
   ]
  },
  {
   "cell_type": "markdown",
   "metadata": {},
   "source": [
    "From the question, we have that for a given mass of the ISM in deuterium, $M_D$, the fraction of the ISM in deuterium is given by:\n",
    "\n",
    "$$X_D = M_D / M_g$$\n",
    "\n",
    "And that with the primordial deuterium abundance, given by $X_D^P$, we have that the observations of deuterium of the ISM today show that:\n",
    "\n",
    "$$X_D / X_D^P \\approx 0.9$$\n",
    "\n",
    "Since deuterium is only destroyed, we can write the rate of change in $M_D$ as:\n",
    "\n",
    "$$dM_D = -X_D dM_*$$\n",
    "\n",
    "And from before, we have that $dM_* = -dM_g/(1-r)$, which we can plugin to get:\n",
    "\n",
    "$$dM_D = \\frac{X_D M_g}{(1-r)}$$ \n",
    "\n",
    "From the question, we had the relationship $X_D = M_D / M_g$, which if we derivate, we get:\n",
    "\n",
    "$$dX_D = d(M_D / M_g)$$\n",
    "\n",
    "Rearranging and expanding for the terms, and inputting the values we have above, we get that:\n",
    "\n",
    "$$dX_D = \\frac{X_D}{(1-r)}\\frac{dM_g}{M_g} - X_D\\frac{dM_g}{M_g}$$\n",
    "\n",
    "This can then be simplified to:\n",
    "\n",
    "$$dX_D = \\frac{rX_D}{(1-r)}\\frac{dM_g}{M_g}$$\n",
    "\n",
    "Rearranging then, we get:\n",
    "\n",
    "$$\\frac{dX_D}{X_D} = \\frac{r}{(1-r)}\\frac{dM_g}{M_g}$$\n",
    "\n",
    "Which we can then integrate and get:\n",
    "\n",
    "$$\\ln\\left(\\frac{X_D(t)}{X_D(0)}\\right) = \\frac{r}{(1-r)}\\ln\\left(\\frac{M_g(t)}{M_g(0)}\\right)$$\n",
    "\n",
    "Here we can remove the $\\ln$ and substitute $X_D^P$ for $X_D(0)$ and we get:\n",
    "\n",
    "$$\\frac{X_D(t)}{X_D^P} = \\left(\\frac{M_g(t)}{M_g(0)}\\right)^\\frac{r}{(1-r)}$$\n",
    "\n",
    "The values we have for $\\frac{X_D(t)}{X_D^P} \\approx 0.9$ and for $\\frac{M_g(t)}{M_g(0)} \\approx 0.1$, and we can plug that in to get:\n",
    "\n",
    "$$r\\left(1 + \\frac{\\ln0.9}{\\ln0.1}\\right) = \\frac{\\ln0.9}{\\ln0.1}$$\n",
    "\n",
    "Or:\n",
    "\n",
    "$$r = \\frac{\\ln0.9}{\\ln0.1}\\left(\\frac{1}{1 + \\frac{\\ln0.9}{\\ln0.1}}\\right)$$\n",
    "\n",
    "And we finally get:\n",
    "\n",
    "$$r \\approx 0.0438$$"
   ]
  },
  {
   "cell_type": "markdown",
   "metadata": {},
   "source": [
    "### Part c\n",
    "Stellar evolution tells us that $r \\approx 0.4$. Compare this to\n",
    "the value you found in (b). If they are significantly different,\n",
    "explain the physical reason for this in the context of the closed box\n",
    "model."
   ]
  },
  {
   "cell_type": "markdown",
   "metadata": {},
   "source": [
    "The value I got for r, $r \\approx 0.0438$ was nearly $90%$ off from the value that stellar evolution tells us. This shows that there is more recycling happening than we can measure numerically with a closed box model. This makes sense because if we were to estimate using an accreting leaky box model, we would be able to account for galactic in and outflows, which would lead to higher recycling, and thus a higher $r$ value."
   ]
  },
  {
   "cell_type": "markdown",
   "metadata": {},
   "source": [
    "### Part d\n",
    "In class, we discussed how the accreting box model is successful\n",
    "at explaining the absence of a large number of very metal poor stars\n",
    "in the solar neighborhood (the G dwarf problem). Work out the\n",
    "evolution of the deuterium abundance $X_D/X_D^P$ in the accreting box\n",
    "model (with $\\eta=0$), remembering that the specific model we looked\n",
    "at has a constant gas mass and that any inflowing gas has the\n",
    "primordial deuterium abundance. What recycling fraction $r$ do you\n",
    "need now to match $X_D/X_D^P$ given the observed gas fraction?"
   ]
  },
  {
   "cell_type": "markdown",
   "metadata": {},
   "source": []
  },
  {
   "cell_type": "markdown",
   "metadata": {},
   "source": [
    "### Part e\n",
    "Write the relation that you found in (d) in terms of the\n",
    "metallicity $Z$ of the ISM rather than the total-to-gas ratio\n",
    "$M/M_g$. Note that for this you will need to adjust the notes'\n",
    "accreting box model to take into account recycling (again use the\n",
    "$\\eta=0$ version to keep things simpler). Try to obtain a \\emph{very}\n",
    "simple relation using the fact that $Z_\\odot/p \\ll 1$. Fun fact: the\n",
    "relation that you derive actually holds very generally, so there is a\n",
    "direct relation between the metallicity of the ISM and the ratio\n",
    "$X_D/X_D^P$, regardless of the details of inflow and outflow and the\n",
    "star formation history."
   ]
  },
  {
   "cell_type": "code",
   "execution_count": null,
   "metadata": {},
   "outputs": [],
   "source": []
  }
 ],
 "metadata": {
  "kernelspec": {
   "display_name": "Python 3",
   "language": "python",
   "name": "python3"
  },
  "language_info": {
   "codemirror_mode": {
    "name": "ipython",
    "version": 3
   },
   "file_extension": ".py",
   "mimetype": "text/x-python",
   "name": "python",
   "nbconvert_exporter": "python",
   "pygments_lexer": "ipython3",
   "version": "3.8.6"
  }
 },
 "nbformat": 4,
 "nbformat_minor": 2
}
